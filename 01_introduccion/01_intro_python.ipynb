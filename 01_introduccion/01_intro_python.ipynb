{
  "cells": [
    {
      "cell_type": "code",
      "source": [],
      "outputs": [],
      "execution_count": null,
      "metadata": {
        "collapsed": false,
        "outputHidden": false,
        "inputHidden": false
      }
    },
    {
      "cell_type": "markdown",
      "source": [
        "# Introducción a la Programación Científica con Python  #\n",
        "\n",
        "Python es un lenguaje computacional de alto nivel que permite al investigador realizar con mucha facilidad las actividades comunmente requeridas en la práctica de la ingeniería. Labores como la simulación, carga y manipulación de datos, y la visualización son naturales; y el lenguaje cuenta con gran cantidad de librerías que han sido desarrolladas, depuradas y optimizadas por una comunidad muy colaborativa.  \n",
        "\n",
        "Este último aspecto es muy importante. En la práctica la idea es utilizar las colecciones de algoritmos correspondientes a los métodos numéricos clásicos (y más sofísticados) que se encuentran disponibles. La idea no es reinventar la rueda, implementando algoritmos de ajuste o solución de ecuaciones, sino utilizar los que ya están disponibles.  \n",
        "\n",
        "Otra ventaja es que se pueden utilizar los Jupyter Notebooks (como este) para combinar código, resultados y documentación de manera que se conviente en una poderosa herramienta de comunicación.\n",
        "\n",
        "A lo largo del semestres utilizaremos esencialmente las siguientes herramientas:\n",
        "\n",
        "* *Python*: lenguage genérico de programación.\n",
        "* *Jupyter Notebook*: ambiente de computación interactivo y de comunicación.\n",
        "* *Numpy*: provee arreglos numericos (al estilo de Matlab) y es la base de muchas de las herramientas de computación científica.\n",
        "* *Scipy*: colección de rutinas de procesamiento de alto nivel. Optimización, regresiones, interpolación, etc.\n",
        "* *Matplotlib*: herramientas de graficación y visualización.\n",
        "\nVamos a comenzar explorando las herramientas con un sencillo método para el cálculo de Pi."
      ],
      "metadata": {
        "collapsed": false,
        "outputHidden": false,
        "inputHidden": false
      }
    },
    {
      "cell_type": "code",
      "source": [
        "# Comenzamos invocando numpy y algunos componentes de matplotlib.\n",
        "# Noten que estos son comentarios en un segmento de código.\n",
        "\n",
        "%pylab inline\n"
      ],
      "outputs": [
        {
          "output_type": "stream",
          "name": "stdout",
          "text": [
            "Populating the interactive namespace from numpy and matplotlib\n"
          ]
        }
      ],
      "execution_count": 1,
      "metadata": {}
    },
    {
      "cell_type": "code",
      "source": [
        "# Definimos una función, para tener más orden\n",
        "def coord_aleat(N):\n",
        "    xcoord = 2*(np.random.rand(N))-1\n",
        "    ycoord = 2*(np.random.rand(N))-1\n",
        "    return xcoord, ycoord"
      ],
      "outputs": [],
      "execution_count": 2,
      "metadata": {
        "collapsed": false,
        "outputHidden": false,
        "inputHidden": false
      }
    },
    {
      "cell_type": "code",
      "source": [
        "Ndatos = 1000\n",
        "radio = 1\n",
        "xc, yc = coord_aleat(Ndatos)"
      ],
      "outputs": [],
      "execution_count": 3,
      "metadata": {
        "collapsed": false,
        "outputHidden": false,
        "inputHidden": false
      }
    },
    {
      "cell_type": "code",
      "source": [
        "plt.plot(xc,yc,'*k')"
      ],
      "outputs": [
        {
          "output_type": "execute_result",
          "execution_count": 4,
          "data": {
            "text/plain": [
              "[<matplotlib.lines.Line2D at 0x20a779006a0>]"
            ]
          },
          "metadata": {}
        },
        {
          "output_type": "display_data",
          "data": {
            "text/plain": [
              "<matplotlib.figure.Figure at 0x20a77881b38>"
            ],
            "image/png": "[encoded data removed]"
          },
          "metadata": {}
        }
      ],
      "execution_count": 4,
      "metadata": {
        "collapsed": false,
        "outputHidden": false,
        "inputHidden": false
      }
    },
    {
      "cell_type": "code",
      "source": [
        "posicion = [(xc**2 + yc**2 - radio**2) <= 0]"
      ],
      "outputs": [],
      "execution_count": 5,
      "metadata": {
        "collapsed": false,
        "outputHidden": false,
        "inputHidden": false
      }
    },
    {
      "cell_type": "code",
      "source": [
        "dentro = np.sum(posicion)"
      ],
      "outputs": [],
      "execution_count": 6,
      "metadata": {
        "collapsed": false,
        "outputHidden": false,
        "inputHidden": false
      }
    },
    {
      "cell_type": "code",
      "source": [
        "dentro"
      ],
      "outputs": [
        {
          "output_type": "execute_result",
          "execution_count": 7,
          "data": {
            "text/plain": [
              "804"
            ]
          },
          "metadata": {}
        }
      ],
      "execution_count": 7,
      "metadata": {
        "collapsed": false,
        "outputHidden": false,
        "inputHidden": false
      }
    },
    {
      "cell_type": "code",
      "source": [
        "proba = dentro/Ndatos"
      ],
      "outputs": [],
      "execution_count": 8,
      "metadata": {
        "collapsed": false,
        "outputHidden": false,
        "inputHidden": false
      }
    },
    {
      "cell_type": "code",
      "source": [
        "proba*4"
      ],
      "outputs": [
        {
          "output_type": "execute_result",
          "execution_count": 9,
          "data": {
            "text/plain": [
              "3.2160000000000002"
            ]
          },
          "metadata": {}
        }
      ],
      "execution_count": 9,
      "metadata": {
        "collapsed": false,
        "outputHidden": false,
        "inputHidden": false
      }
    },
    {
      "cell_type": "code",
      "source": [
        "# Ahora pongamos todo en una función para poder estudiar el\n",
        "# efecto del número de datos.\n",
        "\n",
        "def pi_estad(N):\n",
        "    radio = 1\n",
        "    xcoord, ycoord = coord_aleat(N)\n",
        "    posicion = [(xcoord**2 + ycoord**2 - radio**1) <= 0]\n",
        "    dentro = np.sum(posicion)\n",
        "    return dentro/N - np.pi/4"
      ],
      "outputs": [],
      "execution_count": 14,
      "metadata": {
        "collapsed": false,
        "outputHidden": false,
        "inputHidden": false
      }
    },
    {
      "cell_type": "code",
      "source": [
        "Ndatos = np.logspace(1,8,8)"
      ],
      "outputs": [],
      "execution_count": 15,
      "metadata": {
        "collapsed": false,
        "outputHidden": false,
        "inputHidden": false
      }
    },
    {
      "cell_type": "code",
      "source": [
        "Ndatos"
      ],
      "outputs": [
        {
          "output_type": "execute_result",
          "execution_count": 16,
          "data": {
            "text/plain": [
              "array([  1.00000000e+01,   1.00000000e+02,   1.00000000e+03,\n",
              "         1.00000000e+04,   1.00000000e+05,   1.00000000e+06,\n",
              "         1.00000000e+07,   1.00000000e+08])"
            ]
          },
          "metadata": {}
        }
      ],
      "execution_count": 16,
      "metadata": {
        "collapsed": false,
        "outputHidden": false,
        "inputHidden": false
      }
    },
    {
      "cell_type": "code",
      "source": [
        "pis = []\n",
        "for n in Ndatos:\n",
        "    pi_calc = pi_estad(int(n))\n",
        "    pis.append(pi_calc)"
      ],
      "outputs": [],
      "execution_count": 17,
      "metadata": {
        "collapsed": false,
        "outputHidden": false,
        "inputHidden": false
      }
    },
    {
      "cell_type": "code",
      "source": [
        "pis"
      ],
      "outputs": [
        {
          "output_type": "execute_result",
          "execution_count": 18,
          "data": {
            "text/plain": [
              "[-0.1853981633974483,\n",
              " -0.10539816339744823,\n",
              " 0.0076018366025517592,\n",
              " -0.0041981633974482735,\n",
              " 2.1836602551728035e-05,\n",
              " 6.6836602551689772e-05,\n",
              " 3.7336602551674147e-05,\n",
              " 2.1656602551711757e-05]"
            ]
          },
          "metadata": {}
        }
      ],
      "execution_count": 18,
      "metadata": {
        "collapsed": false,
        "outputHidden": false,
        "inputHidden": false
      }
    },
    {
      "cell_type": "code",
      "source": [
        "plt.semilogx(Ndatos,pis)\n",
        "plt.xlabel('Número de datos')\n",
        "plt.ylabel('Prob(N)- $\\pi/4$')\n",
        "pylab.savefig('./ejemplo.jpg')"
      ],
      "outputs": [
        {
          "output_type": "display_data",
          "data": {
            "text/plain": [
              "<matplotlib.figure.Figure at 0x20a77956ef0>"
            ],
            "image/png": "[encoded data removed]"
          },
          "metadata": {}
        }
      ],
      "execution_count": 19,
      "metadata": {
        "collapsed": false,
        "outputHidden": false,
        "inputHidden": false
      }
    },
    {
      "cell_type": "code",
      "source": [
        "# Ejercicio 5.1 Notas de Clase\n",
        "\n",
        "tasa_cort = np.array([50, 70, 90, 110, 130])\n",
        "esf_cort = np.array([6.01, 7.68, 8.59, 9.19, 10.21])"
      ],
      "outputs": [],
      "execution_count": 22,
      "metadata": {
        "collapsed": false,
        "outputHidden": false,
        "inputHidden": false
      }
    },
    {
      "cell_type": "code",
      "source": [
        "plt.plot(tasa_cort, esf_cort, '*k')\n",
        "plt.xlabel('$\\dot{\\gamma}$')\n",
        "plt.ylabel('$ \\tau $')"
      ],
      "outputs": [
        {
          "output_type": "execute_result",
          "execution_count": 32,
          "data": {
            "text/plain": [
              "Text(0,0.5,'$ \\tau $')"
            ]
          },
          "metadata": {}
        },
        {
          "output_type": "display_data",
          "data": {
            "text/plain": [
              "<matplotlib.figure.Figure at 0x20a03fed550>"
            ],
            "image/png": "[encoded data removed]"
          },
          "metadata": {}
        }
      ],
      "execution_count": 32,
      "metadata": {
        "collapsed": false,
        "outputHidden": false,
        "inputHidden": false
      }
    },
    {
      "cell_type": "code",
      "source": [
        "# Badado en ejemplo de\n",
        "# http://scipy-cookbook.readthedocs.io/items/LinearRegression.html\n",
        "(ar,br)=polyfit(tasa_cort,esf_cort,1)\n",
        "xr=polyval([ar,br],tasa_cort)\n",
        "err=sqrt(sum((xr-esf_cort)**2)/xr.size)"
      ],
      "outputs": [],
      "execution_count": 51,
      "metadata": {
        "collapsed": false,
        "outputHidden": false,
        "inputHidden": false
      }
    },
    {
      "cell_type": "code",
      "source": [
        "print('Linear regression using polyfit')\n",
        "print('parameters: a=%.2f b=%.2f, ms error= %.3f' % (ar,br,err))"
      ],
      "outputs": [
        {
          "output_type": "stream",
          "name": "stdout",
          "text": [
            "Linear regression using polyfit\n",
            "parameters: a=0.05 b=3.88, ms error= 0.255\n"
          ]
        }
      ],
      "execution_count": 52,
      "metadata": {
        "collapsed": false,
        "outputHidden": false,
        "inputHidden": false
      }
    },
    {
      "cell_type": "code",
      "source": [
        "t = np.linspace(tasa_cort[0],tasa_cort[-1])\n",
        "esf_modelo = polyval([ar,br],t)"
      ],
      "outputs": [],
      "execution_count": 83,
      "metadata": {
        "collapsed": false,
        "outputHidden": false,
        "inputHidden": false
      }
    },
    {
      "cell_type": "code",
      "source": [
        "plt.plot(tasa_cort, esf_cort, '*k')\n",
        "plt.plot(t,esf_modelo)\n",
        "plt.xlabel('$\\dot{\\gamma}$')\n",
        "plt.ylabel('$\\tau$')"
      ],
      "outputs": [
        {
          "output_type": "execute_result",
          "execution_count": 54,
          "data": {
            "text/plain": [
              "Text(0,0.5,'$ \\tau $')"
            ]
          },
          "metadata": {}
        },
        {
          "output_type": "display_data",
          "data": {
            "text/plain": [
              "<matplotlib.figure.Figure at 0x20a04f596a0>"
            ],
            "image/png": "[encoded data removed]"
          },
          "metadata": {}
        }
      ],
      "execution_count": 54,
      "metadata": {
        "collapsed": false,
        "outputHidden": false,
        "inputHidden": false
      }
    },
    {
      "cell_type": "code",
      "source": [
        "# Ahora vamos a hacer un ajuste a una ley de potencias siguiendo:\n",
        "# https://docs.scipy.org/doc/scipy/reference/generated/scipy.optimize.curve_fit.html\n",
        "# https://stackoverflow.com/questions/15624070/why-does-scipy-optimize-curve-fit-not-fit-to-the-data\n",
        "from scipy.optimize import curve_fit\n",
        "def func(x, a, b):\n",
        "    return a*x**b"
      ],
      "outputs": [],
      "execution_count": 57,
      "metadata": {
        "collapsed": false,
        "outputHidden": false,
        "inputHidden": false
      }
    },
    {
      "cell_type": "code",
      "source": [
        "popt, pcov = curve_fit(func, tasa_cort, esf_cort)"
      ],
      "outputs": [],
      "execution_count": 58,
      "metadata": {
        "collapsed": false,
        "outputHidden": false,
        "inputHidden": false
      }
    },
    {
      "cell_type": "code",
      "source": [
        "err=sqrt(sum((func(tasa_cort, *popt)-esf_cort)**2)/xr.size)\n",
        "print('Ajuste con ley de potencias')\n",
        "print('parameters: $\\mu$=%.2f n=%.2f, ms error= %.3f' % (popt[0],popt[1],err))"
      ],
      "outputs": [
        {
          "output_type": "stream",
          "name": "stdout",
          "text": [
            "Ajuste con ley de potencias\n",
            "parameters: $\\mu$=0.83 n=0.52, ms error= 0.185\n"
          ]
        }
      ],
      "execution_count": 77,
      "metadata": {
        "collapsed": false,
        "outputHidden": false,
        "inputHidden": false
      }
    },
    {
      "cell_type": "code",
      "source": [
        "plt.plot(tasa_cort, esf_cort, '*k', label='datos')\n",
        "plt.plot(t,func(t, *popt), 'r-',\n",
        "         label='fit: $\\mu$=%5.3f, n=%5.3f' % tuple(popt))\n",
        "plt.xlabel('$\\dot{\\gamma}$')\n",
        "plt.ylabel('$\\tau$')\n",
        "plt.legend()"
      ],
      "outputs": [
        {
          "output_type": "execute_result",
          "execution_count": 68,
          "data": {
            "text/plain": [
              "<matplotlib.legend.Legend at 0x20a07f975c0>"
            ]
          },
          "metadata": {}
        },
        {
          "output_type": "display_data",
          "data": {
            "text/plain": [
              "<matplotlib.figure.Figure at 0x20a07ff0da0>"
            ],
            "image/png": "[encoded data removed]"
          },
          "metadata": {}
        }
      ],
      "execution_count": 68,
      "metadata": {
        "collapsed": false,
        "outputHidden": false,
        "inputHidden": false
      }
    },
    {
      "cell_type": "code",
      "source": [
        "# Problema de Kepler\n",
        "\n",
        "def kepler(x, C):\n",
        "    return C*x**(3/2)"
      ],
      "outputs": [],
      "execution_count": 78,
      "metadata": {
        "collapsed": false,
        "outputHidden": false,
        "inputHidden": false
      }
    },
    {
      "cell_type": "code",
      "source": [
        "distancia = np.array([58, 108, 150, 228])\n",
        "periodo = np.array([88, 225, 365, 687])"
      ],
      "outputs": [],
      "execution_count": 80,
      "metadata": {
        "collapsed": false,
        "outputHidden": false,
        "inputHidden": false
      }
    },
    {
      "cell_type": "code",
      "source": [
        "popt, pcov = curve_fit(kepler, distancia, periodo)"
      ],
      "outputs": [],
      "execution_count": 81,
      "metadata": {
        "collapsed": false,
        "outputHidden": false,
        "inputHidden": false
      }
    },
    {
      "cell_type": "code",
      "source": [
        "t = np.linspace(distancia[0],distancia[-1])\n",
        "plt.plot(distancia, periodo, '*k', label='datos')\n",
        "plt.plot(t,kepler(t, *popt), 'r-',\n",
        "         label='fit: $C$=%5.3f' % tuple(popt))\n",
        "plt.xlabel('$Distancia del sol en millones de kilómetros$')\n",
        "plt.ylabel('$Perido en días$')\n",
        "plt.legend()"
      ],
      "outputs": [
        {
          "output_type": "execute_result",
          "execution_count": 84,
          "data": {
            "text/plain": [
              "<matplotlib.legend.Legend at 0x20a090042b0>"
            ]
          },
          "metadata": {}
        },
        {
          "output_type": "display_data",
          "data": {
            "text/plain": [
              "<matplotlib.figure.Figure at 0x20a066bc9e8>"
            ],
            "image/png": "[encoded data removed]"
          },
          "metadata": {}
        }
      ],
      "execution_count": 84,
      "metadata": {
        "collapsed": false,
        "outputHidden": false,
        "inputHidden": false
      }
    },
    {
      "cell_type": "code",
      "source": [
        "# Calculo período Jupiter\n",
        "print('Cálculo período Jupiter')\n",
        "print('Usando: C=%.2f el período de Jupiter es: %.2f dias' \n",
        "      % (popt[0],kepler(778, *popt)))"
      ],
      "outputs": [
        {
          "output_type": "stream",
          "name": "stdout",
          "text": [
            "Cálculo período Jupiter\n",
            "Usando: C=0.20 el período de Jupiter es: 4327.96 dias\n"
          ]
        }
      ],
      "execution_count": 87,
      "metadata": {
        "collapsed": false,
        "outputHidden": false,
        "inputHidden": false
      }
    },
    {
      "cell_type": "code",
      "source": [],
      "outputs": [],
      "execution_count": null,
      "metadata": {
        "collapsed": false,
        "outputHidden": false,
        "inputHidden": false
      }
    }
  ],
  "metadata": {
    "kernelspec": {
      "name": "python3",
      "language": "python",
      "display_name": "Python 3"
    },
    "kernel_info": {
      "name": "python3"
    },
    "language_info": {
      "name": "python",
      "version": "3.6.3",
      "mimetype": "text/x-python",
      "codemirror_mode": {
        "name": "ipython",
        "version": 3
      },
      "pygments_lexer": "ipython3",
      "nbconvert_exporter": "python",
      "file_extension": ".py"
    },
    "nteract": {
      "version": "0.6.2"
    }
  },
  "nbformat": 4,
  "nbformat_minor": 4
}